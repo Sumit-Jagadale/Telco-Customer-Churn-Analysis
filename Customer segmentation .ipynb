{
 "cells": [
  {
   "cell_type": "code",
   "execution_count": 1,
   "id": "a810bdf8-e1fd-4a57-b02c-d2a94ba4009d",
   "metadata": {},
   "outputs": [],
   "source": [
    "import pandas as pd\n",
    "from sklearn.impute import SimpleImputer\n"
   ]
  },
  {
   "cell_type": "code",
   "execution_count": 2,
   "id": "0d139057-21be-40f0-8a28-7f167ab207f8",
   "metadata": {},
   "outputs": [
    {
     "name": "stdout",
     "output_type": "stream",
     "text": [
      "✅ Dataset ready for segmentation\n"
     ]
    }
   ],
   "source": [
    "# Load dataset\n",
    "df = pd.read_csv(\"Telco_Customer_Churn_Dataset.csv\")\n",
    "\n",
    "# Drop customerID\n",
    "if 'customerID' in df.columns:\n",
    "    df.drop(columns=['customerID'], inplace=True)\n",
    "\n",
    "# Convert TotalCharges to numeric\n",
    "df['TotalCharges'] = pd.to_numeric(df['TotalCharges'], errors='coerce')\n",
    "\n",
    "# Handle missing values\n",
    "num_cols = df.select_dtypes(include=['int64','float64']).columns\n",
    "cat_cols = df.select_dtypes(include=['object']).columns.drop('Churn')\n",
    "\n",
    "df[num_cols] = SimpleImputer(strategy='median').fit_transform(df[num_cols])\n",
    "df[cat_cols] = SimpleImputer(strategy='most_frequent').fit_transform(df[cat_cols])\n",
    "\n",
    "# Encode target column\n",
    "df['ChurnFlag'] = df['Churn'].map({'Yes':1,'No':0})\n",
    "\n",
    "print(\"✅ Dataset ready for segmentation\")\n"
   ]
  },
  {
   "cell_type": "code",
   "execution_count": 3,
   "id": "ea176b52-870c-4a26-8dd2-0c627e518b0e",
   "metadata": {},
   "outputs": [
    {
     "name": "stdout",
     "output_type": "stream",
     "text": [
      "✅ Tenure buckets created\n"
     ]
    }
   ],
   "source": [
    "df['tenure_bucket'] = pd.cut(\n",
    "    df['tenure'], \n",
    "    bins=[-1,3,12,24,48,72], \n",
    "    labels=['0-3','4-12','13-24','25-48','49-72']\n",
    ")\n",
    "print(\"✅ Tenure buckets created\")\n"
   ]
  },
  {
   "cell_type": "code",
   "execution_count": 4,
   "id": "eb694c62-106c-4558-a783-02db1f18dfa8",
   "metadata": {},
   "outputs": [
    {
     "name": "stdout",
     "output_type": "stream",
     "text": [
      "✅ Monthly charge buckets created\n"
     ]
    }
   ],
   "source": [
    "df['monthly_bucket'] = pd.cut(df['MonthlyCharges'], bins=4)\n",
    "print(\"✅ Monthly charge buckets created\")\n"
   ]
  },
  {
   "cell_type": "code",
   "execution_count": 5,
   "id": "d003ea15-c38d-4910-bd44-a501e5859dda",
   "metadata": {},
   "outputs": [
    {
     "name": "stdout",
     "output_type": "stream",
     "text": [
      "✅ Segmentation summary created\n"
     ]
    },
    {
     "name": "stderr",
     "output_type": "stream",
     "text": [
      "/var/folders/8g/lxw7k2fx0cncl3vqj3wm1h4c0000gn/T/ipykernel_1792/292527878.py:2: FutureWarning: The default of observed=False is deprecated and will be changed to True in a future version of pandas. Pass observed=False to retain current behavior or observed=True to adopt the future default and silence this warning.\n",
      "  df.groupby(['tenure_bucket','monthly_bucket'])['ChurnFlag']\n"
     ]
    }
   ],
   "source": [
    "seg_summary = (\n",
    "    df.groupby(['tenure_bucket','monthly_bucket'])['ChurnFlag']\n",
    "    .mean()\n",
    "    .reset_index()\n",
    ")\n",
    "seg_summary.rename(columns={'ChurnFlag':'ChurnRate'}, inplace=True)\n",
    "print(\"✅ Segmentation summary created\")\n"
   ]
  },
  {
   "cell_type": "code",
   "execution_count": 6,
   "id": "4d6d8711-e917-4935-8464-d7c27083fd0d",
   "metadata": {},
   "outputs": [
    {
     "name": "stdout",
     "output_type": "stream",
     "text": [
      "Churn Rate by Segments:\n",
      "   tenure_bucket    monthly_bucket  ChurnRate\n",
      "0            0-3   (18.15, 43.375]   0.371508\n",
      "1            0-3    (43.375, 68.5]   0.507812\n",
      "2            0-3    (68.5, 93.625]   0.738155\n",
      "3            0-3  (93.625, 118.75]   0.808511\n",
      "4           4-12   (18.15, 43.375]   0.142857\n",
      "5           4-12    (43.375, 68.5]   0.263359\n",
      "6           4-12    (68.5, 93.625]   0.564039\n",
      "7           4-12  (93.625, 118.75]   0.783333\n",
      "8          13-24   (18.15, 43.375]   0.077703\n",
      "9          13-24    (43.375, 68.5]   0.210762\n",
      "10         13-24    (68.5, 93.625]   0.402235\n",
      "11         13-24  (93.625, 118.75]   0.544218\n",
      "12         25-48   (18.15, 43.375]   0.051402\n",
      "13         25-48    (43.375, 68.5]   0.102990\n",
      "14         25-48    (68.5, 93.625]   0.268145\n",
      "15         25-48  (93.625, 118.75]   0.376694\n",
      "16         49-72   (18.15, 43.375]   0.016632\n",
      "17         49-72    (43.375, 68.5]   0.056716\n",
      "18         49-72    (68.5, 93.625]   0.065183\n",
      "19         49-72  (93.625, 118.75]   0.182620\n"
     ]
    }
   ],
   "source": [
    "print(\"Churn Rate by Segments:\")\n",
    "print(seg_summary)\n"
   ]
  },
  {
   "cell_type": "code",
   "execution_count": null,
   "id": "587f8b3d-99fe-4f9d-8ceb-691c9e129ead",
   "metadata": {},
   "outputs": [],
   "source": []
  }
 ],
 "metadata": {
  "kernelspec": {
   "display_name": "Python [conda env:base] *",
   "language": "python",
   "name": "conda-base-py"
  },
  "language_info": {
   "codemirror_mode": {
    "name": "ipython",
    "version": 3
   },
   "file_extension": ".py",
   "mimetype": "text/x-python",
   "name": "python",
   "nbconvert_exporter": "python",
   "pygments_lexer": "ipython3",
   "version": "3.13.5"
  }
 },
 "nbformat": 4,
 "nbformat_minor": 5
}
