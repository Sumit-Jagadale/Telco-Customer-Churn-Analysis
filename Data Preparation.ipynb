{
 "cells": [
  {
   "cell_type": "code",
   "execution_count": 4,
   "id": "eeabb37f-37a0-4abc-a60d-b5ca62aef257",
   "metadata": {},
   "outputs": [
    {
     "name": "stdout",
     "output_type": "stream",
     "text": [
      "Task 1 Completed ✅\n",
      "Train shape: (5282, 30) Test shape: (1761, 30)\n"
     ]
    }
   ],
   "source": [
    "import pandas as pd\n",
    "import numpy as np\n",
    "from sklearn.model_selection import train_test_split\n",
    "from sklearn.impute import SimpleImputer\n",
    "\n",
    "df = pd.read_csv(\"Telco_Customer_Churn_Dataset.csv\")\n",
    "\n",
    "df.drop(columns=['customerID'], inplace=True)\n",
    "\n",
    "df['TotalCharges'] = pd.to_numeric(df['TotalCharges'], errors='coerce')\n",
    "\n",
    "num_cols = df.select_dtypes(include=['int64','float64']).columns\n",
    "cat_cols = df.select_dtypes(include=['object']).columns.drop('Churn')\n",
    "\n",
    "df[num_cols] = SimpleImputer(strategy='median').fit_transform(df[num_cols])\n",
    "df[cat_cols] = SimpleImputer(strategy='most_frequent').fit_transform(df[cat_cols])\n",
    "\n",
    "df['ChurnFlag'] = df['Churn'].map({'Yes':1,'No':0})\n",
    "\n",
    "df_enc = pd.get_dummies(df.drop(columns=['Churn']), columns=cat_cols, drop_first=True)\n",
    "\n",
    "X = df_enc.drop(columns=['ChurnFlag'])\n",
    "y = df_enc['ChurnFlag']\n",
    "X_train, X_test, y_train, y_test = train_test_split(X, y, test_size=0.25, stratify=y, random_state=42)\n",
    "\n",
    "print(\"Task 1 Completed ✅\")\n",
    "print(\"Train shape:\", X_train.shape, \"Test shape:\", X_test.shape)\n"
   ]
  },
  {
   "cell_type": "code",
   "execution_count": null,
   "id": "09acd969-7c12-45ea-99a7-8638a998f735",
   "metadata": {},
   "outputs": [],
   "source": []
  }
 ],
 "metadata": {
  "kernelspec": {
   "display_name": "Python [conda env:base] *",
   "language": "python",
   "name": "conda-base-py"
  },
  "language_info": {
   "codemirror_mode": {
    "name": "ipython",
    "version": 3
   },
   "file_extension": ".py",
   "mimetype": "text/x-python",
   "name": "python",
   "nbconvert_exporter": "python",
   "pygments_lexer": "ipython3",
   "version": "3.13.5"
  }
 },
 "nbformat": 4,
 "nbformat_minor": 5
}
