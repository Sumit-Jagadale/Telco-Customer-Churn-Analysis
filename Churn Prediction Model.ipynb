{
 "cells": [
  {
   "cell_type": "code",
   "execution_count": 1,
   "id": "b3f011de-efbf-4e55-acb7-681a0f72c269",
   "metadata": {},
   "outputs": [],
   "source": [
    "import pandas as pd\n",
    "from sklearn.impute import SimpleImputer\n",
    "from sklearn.model_selection import train_test_split\n",
    "from sklearn.preprocessing import StandardScaler\n",
    "from sklearn.linear_model import LogisticRegression\n",
    "from sklearn.ensemble import RandomForestClassifier\n",
    "from sklearn.metrics import (\n",
    "    accuracy_score, precision_score, recall_score, \n",
    "    f1_score, roc_auc_score, classification_report, \n",
    "    confusion_matrix, roc_curve\n",
    ")\n",
    "import matplotlib.pyplot as plt\n"
   ]
  },
  {
   "cell_type": "code",
   "execution_count": 2,
   "id": "2b85336c-914c-47c9-93da-7a9868df9507",
   "metadata": {},
   "outputs": [
    {
     "name": "stdout",
     "output_type": "stream",
     "text": [
      "✅ Dataset ready for modeling\n"
     ]
    }
   ],
   "source": [
    "df = pd.read_csv(\"Telco_Customer_Churn_Dataset.csv\")\n",
    "\n",
    "if 'customerID' in df.columns:\n",
    "    df.drop(columns=['customerID'], inplace=True)\n",
    "\n",
    "df['TotalCharges'] = pd.to_numeric(df['TotalCharges'], errors='coerce')\n",
    "\n",
    "num_cols = df.select_dtypes(include=['int64','float64']).columns\n",
    "cat_cols = df.select_dtypes(include=['object']).columns.drop('Churn')\n",
    "\n",
    "df[num_cols] = SimpleImputer(strategy='median').fit_transform(df[num_cols])\n",
    "df[cat_cols] = SimpleImputer(strategy='most_frequent').fit_transform(df[cat_cols])\n",
    "\n",
    "df['ChurnFlag'] = df['Churn'].map({'Yes':1,'No':0})\n",
    "\n",
    "df_enc = pd.get_dummies(df.drop(columns=['Churn']), columns=cat_cols, drop_first=True)\n",
    "\n",
    "X = df_enc.drop(columns=['ChurnFlag'])\n",
    "y = df_enc['ChurnFlag']\n",
    "X_train, X_test, y_train, y_test = train_test_split(X, y, test_size=0.25, stratify=y, random_state=42)\n",
    "\n",
    "print(\"✅ Dataset ready for modeling\")\n"
   ]
  },
  {
   "cell_type": "code",
   "execution_count": 3,
   "id": "e587e8ab-07f4-413c-b62d-10057e09fc3d",
   "metadata": {},
   "outputs": [
    {
     "name": "stdout",
     "output_type": "stream",
     "text": [
      "✅ Numeric features scaled\n"
     ]
    }
   ],
   "source": [
    "scaler = StandardScaler()\n",
    "num_features = ['SeniorCitizen','tenure','MonthlyCharges','TotalCharges']\n",
    "\n",
    "X_train_scaled = X_train.copy()\n",
    "X_test_scaled = X_test.copy()\n",
    "\n",
    "X_train_scaled[num_features] = scaler.fit_transform(X_train[num_features])\n",
    "X_test_scaled[num_features] = scaler.transform(X_test[num_features])\n",
    "\n",
    "print(\"✅ Numeric features scaled\")\n"
   ]
  },
  {
   "cell_type": "code",
   "execution_count": 4,
   "id": "a48cddd0-8190-4e34-97f1-f55263a3e281",
   "metadata": {},
   "outputs": [
    {
     "name": "stdout",
     "output_type": "stream",
     "text": [
      "✅ Logistic Regression model trained\n"
     ]
    }
   ],
   "source": [
    "log_clf = LogisticRegression(max_iter=1000, class_weight='balanced', random_state=42)\n",
    "log_clf.fit(X_train_scaled, y_train)\n",
    "\n",
    "y_pred_log = log_clf.predict(X_test_scaled)\n",
    "y_proba_log = log_clf.predict_proba(X_test_scaled)[:,1]\n",
    "\n",
    "print(\"✅ Logistic Regression model trained\")\n"
   ]
  },
  {
   "cell_type": "code",
   "execution_count": 5,
   "id": "873072b8-16d0-4535-bee2-a7b2ae23e1d9",
   "metadata": {},
   "outputs": [
    {
     "name": "stdout",
     "output_type": "stream",
     "text": [
      "✅ Random Forest model trained\n"
     ]
    }
   ],
   "source": [
    "rf_clf = RandomForestClassifier(n_estimators=200, class_weight='balanced', random_state=42)\n",
    "rf_clf.fit(X_train, y_train)\n",
    "\n",
    "y_pred_rf = rf_clf.predict(X_test)\n",
    "y_proba_rf = rf_clf.predict_proba(X_test)[:,1]\n",
    "\n",
    "print(\"✅ Random Forest model trained\")\n"
   ]
  },
  {
   "cell_type": "code",
   "execution_count": 6,
   "id": "f781b36c-f9d8-4047-85f3-041e36d52b23",
   "metadata": {},
   "outputs": [
    {
     "name": "stdout",
     "output_type": "stream",
     "text": [
      "✅ Evaluation function ready\n"
     ]
    }
   ],
   "source": [
    "def evaluate_model(y_true, y_pred, y_proba, model_name):\n",
    "    print(f\"\\n--- {model_name} ---\")\n",
    "    print(\"Accuracy:\", accuracy_score(y_true,y_pred))\n",
    "    print(\"Precision:\", precision_score(y_true,y_pred))\n",
    "    print(\"Recall:\", recall_score(y_true,y_pred))\n",
    "    print(\"F1-score:\", f1_score(y_true,y_pred))\n",
    "    print(\"ROC-AUC:\", roc_auc_score(y_true,y_proba))\n",
    "    print(\"\\nConfusion Matrix:\\n\", confusion_matrix(y_true,y_pred))\n",
    "    print(\"\\nClassification Report:\\n\", classification_report(y_true,y_pred))\n",
    "\n",
    "print(\"✅ Evaluation function ready\")\n"
   ]
  },
  {
   "cell_type": "code",
   "execution_count": 7,
   "id": "785e443b-5ee9-46cd-adc0-44317f43ade3",
   "metadata": {},
   "outputs": [
    {
     "name": "stdout",
     "output_type": "stream",
     "text": [
      "\n",
      "--- Logistic Regression ---\n",
      "Accuracy: 0.750709823963657\n",
      "Precision: 0.5195530726256983\n",
      "Recall: 0.7965738758029979\n",
      "F1-score: 0.628909551986475\n",
      "ROC-AUC: 0.8460445012229065\n",
      "\n",
      "Confusion Matrix:\n",
      " [[950 344]\n",
      " [ 95 372]]\n",
      "\n",
      "Classification Report:\n",
      "               precision    recall  f1-score   support\n",
      "\n",
      "           0       0.91      0.73      0.81      1294\n",
      "           1       0.52      0.80      0.63       467\n",
      "\n",
      "    accuracy                           0.75      1761\n",
      "   macro avg       0.71      0.77      0.72      1761\n",
      "weighted avg       0.81      0.75      0.76      1761\n",
      "\n",
      "\n",
      "--- Random Forest ---\n",
      "Accuracy: 0.7881885292447472\n",
      "Precision: 0.6350574712643678\n",
      "Recall: 0.4732334047109208\n",
      "F1-score: 0.5423312883435583\n",
      "ROC-AUC: 0.8295534653432579\n",
      "\n",
      "Confusion Matrix:\n",
      " [[1167  127]\n",
      " [ 246  221]]\n",
      "\n",
      "Classification Report:\n",
      "               precision    recall  f1-score   support\n",
      "\n",
      "           0       0.83      0.90      0.86      1294\n",
      "           1       0.64      0.47      0.54       467\n",
      "\n",
      "    accuracy                           0.79      1761\n",
      "   macro avg       0.73      0.69      0.70      1761\n",
      "weighted avg       0.78      0.79      0.78      1761\n",
      "\n"
     ]
    }
   ],
   "source": [
    "evaluate_model(y_test, y_pred_log, y_proba_log, \"Logistic Regression\")\n",
    "evaluate_model(y_test, y_pred_rf, y_proba_rf, \"Random Forest\")\n"
   ]
  },
  {
   "cell_type": "code",
   "execution_count": 8,
   "id": "1c382053-38e7-484e-89ad-0eab560849bc",
   "metadata": {},
   "outputs": [
    {
     "data": {
      "image/png": "[encoded data removed]",
      "text/plain": [
       "<Figure size 640x480 with 1 Axes>"
      ]
     },
     "metadata": {},
     "output_type": "display_data"
    }
   ],
   "source": [
    "fpr_log, tpr_log, _ = roc_curve(y_test, y_proba_log)\n",
    "fpr_rf, tpr_rf, _ = roc_curve(y_test, y_proba_rf)\n",
    "\n",
    "plt.plot(fpr_log, tpr_log, label=\"Logistic Regression\")\n",
    "plt.plot(fpr_rf, tpr_rf, label=\"Random Forest\")\n",
    "plt.plot([0,1],[0,1],'--')\n",
    "plt.xlabel(\"False Positive Rate\")\n",
    "plt.ylabel(\"True Positive Rate\")\n",
    "plt.title(\"ROC Curve\")\n",
    "plt.legend()\n",
    "plt.show()\n"
   ]
  },
  {
   "cell_type": "code",
   "execution_count": null,
   "id": "45000518-8277-46ef-8046-c20954fc1923",
   "metadata": {},
   "outputs": [],
   "source": []
  }
 ],
 "metadata": {
  "kernelspec": {
   "display_name": "Python [conda env:base] *",
   "language": "python",
   "name": "conda-base-py"
  },
  "language_info": {
   "codemirror_mode": {
    "name": "ipython",
    "version": 3
   },
   "file_extension": ".py",
   "mimetype": "text/x-python",
   "name": "python",
   "nbconvert_exporter": "python",
   "pygments_lexer": "ipython3",
   "version": "3.13.5"
  }
 },
 "nbformat": 4,
 "nbformat_minor": 5
}
